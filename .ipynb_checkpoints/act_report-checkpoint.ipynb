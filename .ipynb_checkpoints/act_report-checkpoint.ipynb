{
 "cells": [
  {
   "attachments": {},
   "cell_type": "markdown",
   "metadata": {},
   "source": [
    "# They're Good Dogs Brent\n",
    "\n",
    "<img src=\"https://i.kym-cdn.com/entries/icons/mobile/000/022/304/Screen_Shot_2017-02-23_at_3.41.32_PM.jpg\" alt=\"meme\" style=\"width: 500px;\"/>\n",
    "\n",
    "For some people, who certainly love dogs will love to share what their dogs do. Like the majority of posts on [@dog_rates](https://twitter.com/dog_rates)  or better known as [WeRateDogs](https://en.wikipedia.org/wiki/WeRateDogs), dog lovers love to share photos of their dogs. Surely this is a happiness that should be shared among the dog lovers.\n",
    "\n",
    "Have you ever heard the quote in the title,\"They are Good Dogs of Brent\"?, which are widely used in memes to cover people who take issue about the WeDogRate ranking system. What happened in their system is, numerator is far far bigger than the denominator. Yes, you're not heard it wrong, that was their rating system. Even the ratings reach unreasonable numbers. However, this has become a habitual utilization for @dog_rates when determining the rating of their dogs. Interesting right?\n",
    "\n",
    ">WeRateDogs is a Twitter account that rates people's dogs with a humorous comment about the dog. These ratings almost always have a denominator of 10. The numerators, though? Almost always greater than 10. 11/10, 12/10, 13/10, etc. Why? Because \"they're good dogs Brent.\" WeRateDogs has over 4 million followers and has received international media coverage.\n",
    "\n",
    "\n",
    "<br>\n",
    "<center><i><b>WeRateDogs intended to humorously review pictures of dogs doing adorable poses. So, take it easy Brent</b></i></center>\n",
    "\n",
    "There are many interesting insights from their twitter post. In this article, we want to show you what we find after wrangling some data from it.\n",
    "\n",
    "<br>\n",
    "<br>\n",
    "\n",
    "### Most common name for dog\n",
    "\n",
    "![dogname](./dogname.png)\n",
    "\n",
    "With the count more than 900 names, dog sure has varies name. This is kind of interesting, from the detection algorithm, people tends not to share their dog name to the WeRateDogs users. Usually people only share only it's stage or type in the Twitter.  \n",
    "For the most common name for dog posted is Oliver, Cooper, and Charlie, each with count 10.\n",
    "\n",
    "### Golden Retriever is the most popular dog type.\n",
    "\n",
    "![golden](./dogtypepostcount.png)\n",
    "<p><center><i>Golden is always golden after all</i></center></p>\n",
    "\n",
    "The dog which is has ranks 3 of 196 in [AKC Breed Popularity](https://www.akc.org/dog-breeds/golden-retriever/) is the most popular among WeRateDog posts. Has total retweet of 483833 and favorite of 1681869 outperforming other dogs breed.  \n",
    "\n",
    "<img src=\"https://pbs.twimg.com/media/DFg_2PVW0AEHN3p.jpg\" alt=\"Stuart\" style=\"width: 500px;\"/>\n",
    "<p><center><i>Stuart, one of golden retriever.</i></center></p>\n",
    "\n",
    "### Dog Rating\n",
    "\n",
    "#### Most and lowest rating among all\n",
    "If we sum all the y the WeRateDog post, we can get dog type total rating. As we can guess, more retweet is more rating that it get. And still, the number one is our beloved golden retriever. The most rated dog is golden_retriever with rate 169.76818181818166 and the lowest rated dog is loggerhead with rate 0.3.\n",
    "\n",
    "![rating](./rating.png)\n",
    "<br>\n",
    "<img src=\"https://pbs.twimg.com/media/Cd8Rpl0W0AAN1kU.jpg\" alt=\"loggerhead\" style=\"width: 500px;\"/>\n",
    "<p><center><i>Loggerhead with no name.</i></center></p>\n",
    "\n",
    "#### Most and lowest average rating among all\n",
    "Then if we average the rating, we get the clumber is the highest among all. Our lovely golden isn't even in the top five. The most average rated dog is clumber with average rate 2.7, and he lowest average rated dog is loggerhead with average rate 0.3.\n",
    "\n",
    "![rating](./avgrating.png)\n",
    "<br>\n",
    "<img src=\"https://pbs.twimg.com/media/Cswbc2yWcAAVsCJ.jpg\" alt=\"Sophie\" style=\"width: 500px;\"/>\n",
    "<p><center><i>Sophie the cute one.</i></center></p>\n",
    "\n",
    "### Correlation\n",
    "If we examine the correlation by using `.corr()` method on our final dataframe, the one whose have strong correlation is retweet_count and favorite_count, the score is 0.925.\n",
    "\n",
    "![correlation](./corr.png)"
   ]
  },
  {
   "cell_type": "markdown",
   "metadata": {},
   "source": []
  }
 ],
 "metadata": {
  "kernelspec": {
   "display_name": "Python 3",
   "language": "python",
   "name": "python3"
  },
  "language_info": {
   "codemirror_mode": {
    "name": "ipython",
    "version": 3
   },
   "file_extension": ".py",
   "mimetype": "text/x-python",
   "name": "python",
   "nbconvert_exporter": "python",
   "pygments_lexer": "ipython3",
   "version": "3.8.3"
  },
  "toc": {
   "base_numbering": 1,
   "nav_menu": {},
   "number_sections": false,
   "sideBar": true,
   "skip_h1_title": false,
   "title_cell": "Table of Contents",
   "title_sidebar": "Contents",
   "toc_cell": false,
   "toc_position": {},
   "toc_section_display": true,
   "toc_window_display": false
  },
  "varInspector": {
   "cols": {
    "lenName": 16,
    "lenType": 16,
    "lenVar": 40
   },
   "kernels_config": {
    "python": {
     "delete_cmd_postfix": "",
     "delete_cmd_prefix": "del ",
     "library": "var_list.py",
     "varRefreshCmd": "print(var_dic_list())"
    },
    "r": {
     "delete_cmd_postfix": ") ",
     "delete_cmd_prefix": "rm(",
     "library": "var_list.r",
     "varRefreshCmd": "cat(var_dic_list()) "
    }
   },
   "types_to_exclude": [
    "module",
    "function",
    "builtin_function_or_method",
    "instance",
    "_Feature"
   ],
   "window_display": false
  }
 },
 "nbformat": 4,
 "nbformat_minor": 4
}
